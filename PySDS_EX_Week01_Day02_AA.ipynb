{
 "cells": [
  {
   "cell_type": "markdown",
   "metadata": {},
   "source": [
    "**PySDS Week 01 Day 02 - Control and flow statements**"
   ]
  },
  {
   "cell_type": "markdown",
   "metadata": {},
   "source": [
    "# Assignment 1.2 A few quick exercises and a sustained data cleaning example\n",
    " \n",
    "For this assignment you will be expected to create a single long choose your own adventure story based on user input. The story is going to be pretty underwhelming but should show some examples of some of the concepts used in class. The story can be of your own choosing but must have at least three different paths and two endings. It will take user input to decide the next story. Below I have some 'story elements' that can be used. \n",
    "\n",
    "~~~\n",
    "10am October 10th, 2018\n",
    "~~~\n",
    "\n",
    "That is to say, before tomorrow's class. The assignments will then be randomly shuffled to different members of the class. At 2pm, at the beginning of the tutorial, you will be able to view and comment on someone else's assignment. \n",
    "\n",
    "Peer grading is new at the OII, but it has been shown to be an effective approach to both learning about other people's code as well as keeping people engaged. Because it is peer graded, we will not expect you to give a specific mark. You will instead be asked: \n",
    "\n",
    "1. Does the code run as expected: Y / N \n",
    "2. If No, please note the lines. \n",
    "3. Do you think the code makes sense\n",
    "4. Does anything else stand out"
   ]
  },
  {
   "cell_type": "code",
   "execution_count": null,
   "metadata": {},
   "outputs": [],
   "source": [
    "# Short Exercise 1. \n",
    "\n",
    "# Fozzie Bear! (based on a classic coding challenge)\n",
    "# Make a program that spits out numbers and the words Fozzie Bear. \n",
    "# If the line is a multiple of 3 print Fozzie\n",
    "# If the line is a multiple of 5 print Bear\n",
    "# If the line is a multiple of both, print \"Fozzie Bear\" (with the space in between). \n",
    "# Have the program run in the range 0 to 30. \n",
    "\n",
    "# Answer below here: \n",
    "\n",
    "for i in range(1,31):\n",
    "    if i%15==0:\n",
    "        print (i, 'is Fozzie Bear!')  \n",
    "    elif i%5==0:\n",
    "        print (i, 'is Bear')\n",
    "    elif i%3==0:\n",
    "        print (i, 'is Fozzie')\n",
    "    else: \n",
    "        print (i)        \n"
   ]
  },
  {
   "cell_type": "code",
   "execution_count": null,
   "metadata": {},
   "outputs": [],
   "source": [
    "# Short exercise 2: Versever \n",
    "\n",
    "# print 10 lines of 20 characters each in the following pattern:\n",
    "# verseverseverseverse\n",
    "# severseverseversever\n",
    "# Catch, you can only use one string with the word 'verse'\n",
    "# everything else should be done through slicing and loops.\n",
    "\n",
    "# Answer below here\n",
    "string = ('verse')\n",
    "\n",
    "for _ in range(5):\n",
    "    print(string*4)\n",
    "    print((string[3:]+string[:3])*4)\n",
    "        \n",
    "\n",
    "# Print starting from s for each\n",
    "\n",
    "\n",
    "# Reviewer comments below here: \n"
   ]
  },
  {
   "cell_type": "code",
   "execution_count": null,
   "metadata": {},
   "outputs": [],
   "source": [
    "# Short exercise 3. Versever II \n",
    "\n",
    "# Print 10 lines of the 5 characters in the following pattern:\n",
    "#\n",
    "# verse\n",
    "# ersev\n",
    "# rseve\n",
    "# sever\n",
    "# evers\n",
    "#\n",
    "# Again, the catch is you can only use one string with the word 'verse'\n",
    "# everything else should be done through slicing and loops. \n",
    "\n",
    "string = 'verse'\n",
    "\n",
    "for _ in range (2):\n",
    "    for i in range (5):\n",
    "        print(string[i:]+string[:i])\n",
    "\n",
    "    \n"
   ]
  },
  {
   "cell_type": "code",
   "execution_count": null,
   "metadata": {},
   "outputs": [],
   "source": [
    "# Long exercise 1. A very short choose your own adventure\n",
    "# Please create a story that could, in theory, include every string below and \n",
    "# at least one element from each of the two lists. \n",
    "#\n",
    "# Please complete your code in the cell below this one. Also in the cells below that\n",
    "# are some design patterns that you can use to help you out. \n",
    "\n",
    "setting1 = '''It was a sunny day outside when Kermit went to the old auditorium. \n",
    "Along the way he was greeted by his friend %s. Kermit couldn't believe what %s told him.'''\n",
    "\n",
    "actor1 = [\"Piggy\",\"Fozzie\",\"Gonzo\",\"Hilda\"]\n",
    "\n",
    "quote1 = '''The auditorium has burned down! What shall we do?'''\n",
    "\n",
    "quote2 = '''The owner said if we can't come up with rent by Thursday, we will be evicted!'''\n",
    "\n",
    "quote3 = '''The flight for this week's guest star was cancelled. We will have to find a way to pay for a new flight!'''\n",
    "\n",
    "reply1 = '''We should hold a %s'''\n",
    "\n",
    "event1 = [\"BBQ\",\"Telethon\",\"bake sale\"]\n",
    "\n",
    "setting2 = '''At the %s, all the muppets were there, including %s for a special performance. They needed to raise $1000 but actually raised $%s'''\n",
    "\n",
    "ending1 = '''Kermit, sullen, with his guitar in hand, knew it wouldn't be enough. \n",
    "Sitting on a log he thought, it's easier being green than making it. Better luck next time'''\n",
    "\n",
    "ending2 = '''With his muppet hands flailing in the air, Kermit knew they had done it. \n",
    "The show was a sucess after all.'''\n",
    "\n",
    "################################################\n",
    "# Additional user-defined statements \n",
    "################################################\n",
    "\n"
   ]
  },
  {
   "cell_type": "code",
   "execution_count": 5,
   "metadata": {},
   "outputs": [
    {
     "name": "stdout",
     "output_type": "stream",
     "text": [
      "Welcome to choose your own adenture: The Muppets!\n",
      "\n",
      "Hey Kermit! You are on Sesame Street. Land of the weird and home of the spontaneous. \n",
      "Are you here to see Piggy, Fozzie or Gonzo?\n"
     ]
    },
    {
     "name": "stdin",
     "output_type": "stream",
     "text": [
      " s\n"
     ]
    }
   ],
   "source": [
    "# The choose your own adventure should include all of the above statements,\n",
    "# but can include more if you are feeling creative. Place all additional statements \n",
    "# in the cell above with appropriate variable names (you can choose these at will)\n",
    "\n",
    "# Answer below here\n",
    "\n",
    "def game():\n",
    "    print('Welcome to choose your own adenture: The Muppets!')\n",
    "    print('''\\nHey Kermit! You are on Sesame Street. Land of the weird and home of the spontaneous. \\nAre you here to see Piggy, Fozzie or Gonzo?''')\n",
    "    friend = input()          \n",
    "    try: \n",
    "        if friend == 'piggy':\n",
    "            print('''\\nSorry Ms Piggy isn't home 😓. She's off taking over Hollywood... \\nMaybe try again later?''')\n",
    "\n",
    "        elif friend == 'Fozzie':\n",
    "            print('\\n' + setting1 % (actor1[1], actor1[1]), quote1)\n",
    "            fire = input('Run or stay?')\n",
    "            while True:\n",
    "                try:\n",
    "                    if fire == 'run':\n",
    "                        print('Coward!')\n",
    "                        break\n",
    "                    elif fire == 'stay':\n",
    "                        print('\\nYou G!', reply1 % (event1[0]))\n",
    "                        print('''\\nLet's see how Elmo, Abby Cadabby, Big Bird and the gang are doing...''')  \n",
    "                        print('\\nAt the', event1[0], actor1[-1], 'asks how preparations for the', event1[1], 'is going?')\n",
    "                        concert = input('Good or bad?')\n",
    "                        while True:\n",
    "                            if concert == 'bad':\n",
    "                                print(quote3, '''I guess we'll see how it goes''')\n",
    "                                continue\n",
    "                            elif concert == 'good':\n",
    "                                print('\\nWoooo!!! Good job Kermit')\n",
    "                                print('\\n' + setting2 % (event1[1], actor1[0], (2000)))             \n",
    "                                happy = input('Are you happy or sad with that?')\n",
    "                                if happy == 'happy':\n",
    "                                    print ('\\n' + ending2)\n",
    "                                    break\n",
    "                                else:\n",
    "                                    print ('\\n' + ending1)\n",
    "                                    break\n",
    "                            else:\n",
    "                                print('Why so unhelpful Kermit San! You must consider your choices oh wise one.')\n",
    "                                continue\n",
    "                except:\n",
    "                    fire = input('Why so unhelpful Kermit San! You must consider your choices oh wise one.') \n",
    "                    break\n",
    "        elif friend == 'Gonzo':\n",
    "            print('''Sorry Mr Gonzo no want to see you. \\nHe super mad right now 🤷🏿‍''')\n",
    "    except:\n",
    "        print('''Cheeky! We don't allow strangers into this land.''')\n",
    "\n",
    "game()\n",
    "    # Reviewer comments below here\n",
    "\n",
    "    \n",
    "\n"
   ]
  },
  {
   "cell_type": "code",
   "execution_count": null,
   "metadata": {},
   "outputs": [],
   "source": [
    "######################################\n",
    "# Appendix 1. Here are some code patterns to help you out.\n",
    "# None of them are necessary, per se, but they should serve as inspiration.\n",
    "#\n",
    "######################################\n",
    "# Pattern 1. Getting a number\n",
    "\n",
    "a = input(\"Please print a number: \")\n",
    "\n",
    "if int(a) > 4: \n",
    "    b = input(\"Please print a second number: \")\n",
    "else:\n",
    "    b = input(\"Please print a letter: \")\n",
    "\n",
    "print(b)"
   ]
  },
  {
   "cell_type": "code",
   "execution_count": null,
   "metadata": {},
   "outputs": [],
   "source": [
    "#####################################\n",
    "# Pattern 2. Staying in a loop until you are satisfied\n",
    "\n",
    "while True: \n",
    "    print(\"This is a statement about A and B\")\n",
    "    a = input(\"Please make a selection:  (A) or (B)\")\n",
    "    \n",
    "    if a == \"A\":\n",
    "        display(\"you chose well.\")\n",
    "        break\n",
    "    elif a == \"B\":\n",
    "        display(\"you chose well.\")\n",
    "        break\n",
    "    else:\n",
    "        display(\"I'm sorry, that was not a valid selection\")\n",
    "\n",
    "while True: \n",
    "    print(\"This is a statement about C or D\")\n",
    "    a = input(\"Please make a selection:  (C) or (D)\")\n",
    "    \n",
    "    if a == \"C\":\n",
    "        display(\"you chose well.\")\n",
    "        break\n",
    "    elif a == \"D\":\n",
    "        display(\"you chose well.\")\n",
    "        break\n",
    "    else:\n",
    "        display(\"I'm sorry, that was not a valid selection\")\n"
   ]
  },
  {
   "cell_type": "code",
   "execution_count": 1,
   "metadata": {},
   "outputs": [
    {
     "name": "stdin",
     "output_type": "stream",
     "text": [
      "Please print a number greater than 4:  3\n"
     ]
    },
    {
     "name": "stdout",
     "output_type": "stream",
     "text": [
      "That's not greater than 4. Try again.\n"
     ]
    },
    {
     "name": "stdin",
     "output_type": "stream",
     "text": [
      "Please print a number greater than 4:  5\n"
     ]
    },
    {
     "name": "stdout",
     "output_type": "stream",
     "text": [
      "you selected 5 which is greater than 4\n"
     ]
    }
   ],
   "source": [
    "#####################################\n",
    "# Pattern 3. Catching bad input with 'try / except'\n",
    "\n",
    "while True:\n",
    "    a = input(\"Please print a number greater than 4: \")\n",
    "    try: \n",
    "        if float(a) > 4: \n",
    "            print(\"you selected %s which is greater than 4\" % a)\n",
    "            break\n",
    "        else:\n",
    "            print(\"That's not greater than 4. Try again.\")\n",
    "    except: \n",
    "        print(\"I'm sorry, that was not valid input. Please enter an number\")\n"
   ]
  },
  {
   "cell_type": "markdown",
   "metadata": {},
   "source": [
    "### "
   ]
  }
 ],
 "metadata": {
  "kernelspec": {
   "display_name": "Python 3",
   "language": "python",
   "name": "python3"
  },
  "language_info": {
   "codemirror_mode": {
    "name": "ipython",
    "version": 3
   },
   "file_extension": ".py",
   "mimetype": "text/x-python",
   "name": "python",
   "nbconvert_exporter": "python",
   "pygments_lexer": "ipython3",
   "version": "3.7.0"
  }
 },
 "nbformat": 4,
 "nbformat_minor": 2
}
